{
 "cells": [
  {
   "cell_type": "markdown",
   "id": "256716ed-0ce9-4236-a5fa-45fd8436a4f6",
   "metadata": {},
   "source": [
    "### Recommendation Engine with Pyspark"
   ]
  },
  {
   "cell_type": "markdown",
   "id": "1c163f3d-ba83-4d16-86c2-1f0e1a3e61c9",
   "metadata": {},
   "source": [
    "#### We are going to build a recommendation system using Alternating Least Squares method"
   ]
  },
  {
   "cell_type": "code",
   "execution_count": 1,
   "id": "621b17a1-b734-4b4f-b159-6f3b03618dc6",
   "metadata": {},
   "outputs": [],
   "source": [
    "from pyspark.sql import SparkSession\n",
    "import pandas as pd\n",
    "from pyspark.sql.functions import col,explode"
   ]
  },
  {
   "cell_type": "markdown",
   "id": "81cb9c12-fd41-49d9-bbea-550683129b00",
   "metadata": {},
   "source": [
    "##### Initiate Spark session"
   ]
  },
  {
   "cell_type": "code",
   "execution_count": 2,
   "id": "f0aeb6ee-3c32-4043-9ca7-d02a94c2e0c8",
   "metadata": {},
   "outputs": [],
   "source": [
    "spark = SparkSession.builder.appName(\"Recommendation\").getOrCreate()"
   ]
  },
  {
   "cell_type": "markdown",
   "id": "3c1a2269-fd1d-472e-b289-50585087caa1",
   "metadata": {},
   "source": [
    "#### Loading data"
   ]
  },
  {
   "cell_type": "code",
   "execution_count": 8,
   "id": "7584ec0b-443b-4731-8c2c-693f3d6ff89b",
   "metadata": {},
   "outputs": [],
   "source": [
    "movies = spark.read.csv(\"data/movies.csv\",inferSchema=True,header=True)\n",
    "ratings = spark.read.csv(\"data/ratings.csv\",inferSchema=True,header=True)"
   ]
  },
  {
   "cell_type": "code",
   "execution_count": 10,
   "id": "bd95b91d-02fc-4c99-8a4f-d369a1f84d15",
   "metadata": {},
   "outputs": [
    {
     "name": "stdout",
     "output_type": "stream",
     "text": [
      "+------+-------+------+---------+\n",
      "|userId|movieId|rating|timestamp|\n",
      "+------+-------+------+---------+\n",
      "|     1|      1|   4.0|964982703|\n",
      "|     1|      3|   4.0|964981247|\n",
      "|     1|      6|   4.0|964982224|\n",
      "|     1|     47|   5.0|964983815|\n",
      "|     1|     50|   5.0|964982931|\n",
      "|     1|     70|   3.0|964982400|\n",
      "|     1|    101|   5.0|964980868|\n",
      "|     1|    110|   4.0|964982176|\n",
      "|     1|    151|   5.0|964984041|\n",
      "|     1|    157|   5.0|964984100|\n",
      "|     1|    163|   5.0|964983650|\n",
      "|     1|    216|   5.0|964981208|\n",
      "|     1|    223|   3.0|964980985|\n",
      "|     1|    231|   5.0|964981179|\n",
      "|     1|    235|   4.0|964980908|\n",
      "|     1|    260|   5.0|964981680|\n",
      "|     1|    296|   3.0|964982967|\n",
      "|     1|    316|   3.0|964982310|\n",
      "|     1|    333|   5.0|964981179|\n",
      "|     1|    349|   4.0|964982563|\n",
      "+------+-------+------+---------+\n",
      "only showing top 20 rows\n",
      "\n"
     ]
    }
   ],
   "source": [
    "ratings.show()"
   ]
  },
  {
   "cell_type": "code",
   "execution_count": 11,
   "id": "a767db93-29f8-4082-ac30-222b505ec332",
   "metadata": {},
   "outputs": [
    {
     "name": "stdout",
     "output_type": "stream",
     "text": [
      "root\n",
      " |-- userId: integer (nullable = true)\n",
      " |-- movieId: integer (nullable = true)\n",
      " |-- rating: double (nullable = true)\n",
      " |-- timestamp: integer (nullable = true)\n",
      "\n"
     ]
    }
   ],
   "source": [
    "ratings.printSchema()"
   ]
  },
  {
   "cell_type": "code",
   "execution_count": 16,
   "id": "2e25ed62-7c26-4bbb-aa48-d69d80124b7f",
   "metadata": {},
   "outputs": [
    {
     "data": {
      "text/plain": [
       "9724"
      ]
     },
     "execution_count": 16,
     "metadata": {},
     "output_type": "execute_result"
    }
   ],
   "source": [
    "moviesCount = ratings.select('movieID').distinct().count()\n",
    "moviesCount"
   ]
  },
  {
   "cell_type": "code",
   "execution_count": 17,
   "id": "2eeb4321-186e-4653-82f7-d07faea1ccdb",
   "metadata": {},
   "outputs": [
    {
     "data": {
      "text/plain": [
       "610"
      ]
     },
     "execution_count": 17,
     "metadata": {},
     "output_type": "execute_result"
    }
   ],
   "source": [
    "users = ratings.select('userId').distinct().count()\n",
    "users"
   ]
  },
  {
   "cell_type": "code",
   "execution_count": 23,
   "id": "6d55770d-8a65-4b14-88bf-816315ca9779",
   "metadata": {},
   "outputs": [
    {
     "data": {
      "text/html": [
       "<div>\n",
       "<style scoped>\n",
       "    .dataframe tbody tr th:only-of-type {\n",
       "        vertical-align: middle;\n",
       "    }\n",
       "\n",
       "    .dataframe tbody tr th {\n",
       "        vertical-align: top;\n",
       "    }\n",
       "\n",
       "    .dataframe thead th {\n",
       "        text-align: right;\n",
       "    }\n",
       "</style>\n",
       "<table border=\"1\" class=\"dataframe\">\n",
       "  <thead>\n",
       "    <tr style=\"text-align: right;\">\n",
       "      <th></th>\n",
       "      <th>userId</th>\n",
       "      <th>count</th>\n",
       "    </tr>\n",
       "  </thead>\n",
       "  <tbody>\n",
       "    <tr>\n",
       "      <th>0</th>\n",
       "      <td>414</td>\n",
       "      <td>2698</td>\n",
       "    </tr>\n",
       "    <tr>\n",
       "      <th>1</th>\n",
       "      <td>599</td>\n",
       "      <td>2478</td>\n",
       "    </tr>\n",
       "    <tr>\n",
       "      <th>2</th>\n",
       "      <td>474</td>\n",
       "      <td>2108</td>\n",
       "    </tr>\n",
       "    <tr>\n",
       "      <th>3</th>\n",
       "      <td>448</td>\n",
       "      <td>1864</td>\n",
       "    </tr>\n",
       "    <tr>\n",
       "      <th>4</th>\n",
       "      <td>274</td>\n",
       "      <td>1346</td>\n",
       "    </tr>\n",
       "    <tr>\n",
       "      <th>...</th>\n",
       "      <td>...</td>\n",
       "      <td>...</td>\n",
       "    </tr>\n",
       "    <tr>\n",
       "      <th>605</th>\n",
       "      <td>569</td>\n",
       "      <td>20</td>\n",
       "    </tr>\n",
       "    <tr>\n",
       "      <th>606</th>\n",
       "      <td>320</td>\n",
       "      <td>20</td>\n",
       "    </tr>\n",
       "    <tr>\n",
       "      <th>607</th>\n",
       "      <td>576</td>\n",
       "      <td>20</td>\n",
       "    </tr>\n",
       "    <tr>\n",
       "      <th>608</th>\n",
       "      <td>595</td>\n",
       "      <td>20</td>\n",
       "    </tr>\n",
       "    <tr>\n",
       "      <th>609</th>\n",
       "      <td>147</td>\n",
       "      <td>20</td>\n",
       "    </tr>\n",
       "  </tbody>\n",
       "</table>\n",
       "<p>610 rows × 2 columns</p>\n",
       "</div>"
      ],
      "text/plain": [
       "     userId  count\n",
       "0       414   2698\n",
       "1       599   2478\n",
       "2       474   2108\n",
       "3       448   1864\n",
       "4       274   1346\n",
       "..      ...    ...\n",
       "605     569     20\n",
       "606     320     20\n",
       "607     576     20\n",
       "608     595     20\n",
       "609     147     20\n",
       "\n",
       "[610 rows x 2 columns]"
      ]
     },
     "execution_count": 23,
     "metadata": {},
     "output_type": "execute_result"
    }
   ],
   "source": [
    "userRated = ratings.groupby('userId').count().orderBy('count',ascending=False)\n",
    "userRated.toPandas()"
   ]
  },
  {
   "cell_type": "code",
   "execution_count": 25,
   "id": "eeb80f4d-34ff-485e-ba9d-2436fbc11c12",
   "metadata": {},
   "outputs": [
    {
     "data": {
      "text/html": [
       "<div>\n",
       "<style scoped>\n",
       "    .dataframe tbody tr th:only-of-type {\n",
       "        vertical-align: middle;\n",
       "    }\n",
       "\n",
       "    .dataframe tbody tr th {\n",
       "        vertical-align: top;\n",
       "    }\n",
       "\n",
       "    .dataframe thead th {\n",
       "        text-align: right;\n",
       "    }\n",
       "</style>\n",
       "<table border=\"1\" class=\"dataframe\">\n",
       "  <thead>\n",
       "    <tr style=\"text-align: right;\">\n",
       "      <th></th>\n",
       "      <th>movieId</th>\n",
       "      <th>count</th>\n",
       "    </tr>\n",
       "  </thead>\n",
       "  <tbody>\n",
       "    <tr>\n",
       "      <th>0</th>\n",
       "      <td>356</td>\n",
       "      <td>329</td>\n",
       "    </tr>\n",
       "    <tr>\n",
       "      <th>1</th>\n",
       "      <td>318</td>\n",
       "      <td>317</td>\n",
       "    </tr>\n",
       "    <tr>\n",
       "      <th>2</th>\n",
       "      <td>296</td>\n",
       "      <td>307</td>\n",
       "    </tr>\n",
       "    <tr>\n",
       "      <th>3</th>\n",
       "      <td>593</td>\n",
       "      <td>279</td>\n",
       "    </tr>\n",
       "    <tr>\n",
       "      <th>4</th>\n",
       "      <td>2571</td>\n",
       "      <td>278</td>\n",
       "    </tr>\n",
       "    <tr>\n",
       "      <th>...</th>\n",
       "      <td>...</td>\n",
       "      <td>...</td>\n",
       "    </tr>\n",
       "    <tr>\n",
       "      <th>9719</th>\n",
       "      <td>5836</td>\n",
       "      <td>1</td>\n",
       "    </tr>\n",
       "    <tr>\n",
       "      <th>9720</th>\n",
       "      <td>6477</td>\n",
       "      <td>1</td>\n",
       "    </tr>\n",
       "    <tr>\n",
       "      <th>9721</th>\n",
       "      <td>73501</td>\n",
       "      <td>1</td>\n",
       "    </tr>\n",
       "    <tr>\n",
       "      <th>9722</th>\n",
       "      <td>2965</td>\n",
       "      <td>1</td>\n",
       "    </tr>\n",
       "    <tr>\n",
       "      <th>9723</th>\n",
       "      <td>26527</td>\n",
       "      <td>1</td>\n",
       "    </tr>\n",
       "  </tbody>\n",
       "</table>\n",
       "<p>9724 rows × 2 columns</p>\n",
       "</div>"
      ],
      "text/plain": [
       "      movieId  count\n",
       "0         356    329\n",
       "1         318    317\n",
       "2         296    307\n",
       "3         593    279\n",
       "4        2571    278\n",
       "...       ...    ...\n",
       "9719     5836      1\n",
       "9720     6477      1\n",
       "9721    73501      1\n",
       "9722     2965      1\n",
       "9723    26527      1\n",
       "\n",
       "[9724 rows x 2 columns]"
      ]
     },
     "execution_count": 25,
     "metadata": {},
     "output_type": "execute_result"
    }
   ],
   "source": [
    "moviesrated = ratings.groupby('movieId').count().orderBy('count',ascending=False)\n",
    "moviesrated.toPandas()"
   ]
  },
  {
   "cell_type": "markdown",
   "id": "1e376de7-bd44-45a8-bd1e-700d51db6a59",
   "metadata": {},
   "source": [
    "#### Building model"
   ]
  },
  {
   "cell_type": "code",
   "execution_count": 29,
   "id": "a0916fad-2178-423d-927f-a77a31a0302e",
   "metadata": {},
   "outputs": [],
   "source": [
    "from pyspark.ml.evaluation import RegressionEvaluator\n",
    "from pyspark.ml.recommendation import ALS\n",
    "from pyspark.ml.tuning import ParamGridBuilder,CrossValidator"
   ]
  },
  {
   "cell_type": "code",
   "execution_count": 46,
   "id": "91ea008e-93c7-49f7-acd8-df4dde582214",
   "metadata": {},
   "outputs": [],
   "source": [
    "train ,test = ratings.randomSplit([0.8,0.2],seed=133)\n",
    "\n",
    "als = ALS(userCol='userId',itemCol='movieId',ratingCol='rating' ,nonnegative=True,)"
   ]
  },
  {
   "cell_type": "code",
   "execution_count": 47,
   "id": "9119d938-4f38-4fb7-bf48-b7ae301b8f0b",
   "metadata": {},
   "outputs": [
    {
     "data": {
      "text/plain": [
       "80631"
      ]
     },
     "execution_count": 47,
     "metadata": {},
     "output_type": "execute_result"
    }
   ],
   "source": [
    "train.count()"
   ]
  },
  {
   "cell_type": "code",
   "execution_count": 48,
   "id": "ee65629d-d81d-4f46-a112-1798dcfa5e10",
   "metadata": {},
   "outputs": [
    {
     "data": {
      "text/plain": [
       "pyspark.ml.recommendation.ALS"
      ]
     },
     "execution_count": 48,
     "metadata": {},
     "output_type": "execute_result"
    }
   ],
   "source": [
    "type(als)"
   ]
  },
  {
   "cell_type": "markdown",
   "id": "6838ee5b-86ba-48a5-82e2-335b000c2b16",
   "metadata": {},
   "source": [
    "#### Hyperparameters tuning"
   ]
  },
  {
   "cell_type": "code",
   "execution_count": 52,
   "id": "3f5db644-a543-42c3-b8d1-0f1fa52aa391",
   "metadata": {},
   "outputs": [
    {
     "name": "stdout",
     "output_type": "stream",
     "text": [
      "20\n"
     ]
    }
   ],
   "source": [
    "params = ParamGridBuilder()\\\n",
    "            .addGrid(als.rank,[ 10,20 ])\\\n",
    "            .addGrid(als.regParam,[0.01, 0.05])\\\n",
    "            .build()\n",
    "\n",
    "evl = RegressionEvaluator(metricName='rmse',labelCol='rating',predictionCol='prediction')\n",
    "print(len(params))"
   ]
  },
  {
   "cell_type": "markdown",
   "id": "cff30088-386e-47bd-ae94-24bf4464ccf5",
   "metadata": {},
   "source": [
    "#### Building CV pipeline"
   ]
  },
  {
   "cell_type": "code",
   "execution_count": 53,
   "id": "8e53b889-1a80-45b7-b101-5c8635dc25dc",
   "metadata": {},
   "outputs": [
    {
     "name": "stdout",
     "output_type": "stream",
     "text": [
      "CrossValidator_c0307d5d8112\n"
     ]
    }
   ],
   "source": [
    "cv = CrossValidator(estimator=als,estimatorParamMaps=params,evaluator=evl,numFolds=5)\n",
    "print(cv)"
   ]
  },
  {
   "cell_type": "markdown",
   "id": "ec489966-f3ca-444a-98cf-6e3bbcc76dff",
   "metadata": {},
   "source": [
    "#### Best model and best params"
   ]
  },
  {
   "cell_type": "code",
   "execution_count": 54,
   "id": "9644830b-5858-42d9-903b-64909ee84aaf",
   "metadata": {},
   "outputs": [],
   "source": [
    "model = cv.fit(train)"
   ]
  },
  {
   "cell_type": "code",
   "execution_count": 56,
   "id": "1aaaf022-8b60-4e6f-88f4-ef8628934550",
   "metadata": {},
   "outputs": [],
   "source": [
    "best_model = model.bestModel"
   ]
  },
  {
   "cell_type": "code",
   "execution_count": 57,
   "id": "2be45bf2-4fa1-40af-ad6c-9099cb70f0b4",
   "metadata": {},
   "outputs": [
    {
     "name": "stdout",
     "output_type": "stream",
     "text": [
      "<class 'pyspark.ml.recommendation.ALSModel'>\n",
      "**Best Model**\n",
      "  Rank: 10\n",
      "  MaxIter: 10\n",
      "  RegParam: 0.01\n"
     ]
    }
   ],
   "source": [
    "# Print best_model\n",
    "print(type(best_model))\n",
    "\n",
    "# Complete the code below to extract the ALS model parameters\n",
    "print(\"**Best Model**\")\n",
    "\n",
    "# # Print \"Rank\"\n",
    "print(\"  Rank:\", best_model._java_obj.parent().getRank())\n",
    "\n",
    "# Print \"MaxIter\"\n",
    "print(\"  MaxIter:\", best_model._java_obj.parent().getMaxIter())\n",
    "\n",
    "# Print \"RegParam\"\n",
    "print(\"  RegParam:\", best_model._java_obj.parent().getRegParam())"
   ]
  },
  {
   "cell_type": "code",
   "execution_count": 78,
   "id": "99e57a06-6a7b-4bb2-a8fd-3d71487bf8e6",
   "metadata": {},
   "outputs": [
    {
     "name": "stdout",
     "output_type": "stream",
     "text": [
      "nan\n"
     ]
    }
   ],
   "source": [
    "test_pred = best_model.transform(test)\n",
    "rmse = evl.evaluate(test_pred.select('rating','prediction'))\n",
    "print(rmse)"
   ]
  },
  {
   "cell_type": "code",
   "execution_count": 77,
   "id": "274d1f8a-001e-4d9a-9da7-5bb6c6e8b7ea",
   "metadata": {},
   "outputs": [
    {
     "name": "stdout",
     "output_type": "stream",
     "text": [
      "+------+-------+------+---------+----------+\n",
      "|userId|movieId|rating|timestamp|prediction|\n",
      "+------+-------+------+---------+----------+\n",
      "|     1|      1|   4.0|964982703|  5.017557|\n",
      "|     1|      6|   4.0|964982224| 4.4696703|\n",
      "|     1|     70|   3.0|964982400|  5.399613|\n",
      "|     1|    151|   5.0|964984041| 2.6546545|\n",
      "|     1|    216|   5.0|964981208|   4.25392|\n",
      "|     1|    235|   4.0|964980908| 3.9837303|\n",
      "|     1|    260|   5.0|964981680| 5.0018134|\n",
      "|     1|    480|   4.0|964982346|  4.077233|\n",
      "|     1|    608|   5.0|964982931| 4.9090195|\n",
      "|     1|    648|   3.0|964982563|  3.744081|\n",
      "|     1|    673|   3.0|964981775| 3.0497093|\n",
      "|     1|   1023|   5.0|964982681|  4.171769|\n",
      "|     1|   1030|   3.0|964982903| 4.1609726|\n",
      "|     1|   1049|   5.0|964982400|  2.773957|\n",
      "|     1|   1060|   4.0|964980924| 4.0169554|\n",
      "|     1|   1073|   5.0|964981680|  4.407525|\n",
      "|     1|   1127|   4.0|964982513|  3.690847|\n",
      "|     1|   1197|   5.0|964981872| 4.6823425|\n",
      "|     1|   1206|   5.0|964983737| 4.6268873|\n",
      "|     1|   1208|   4.0|964983250| 5.1451845|\n",
      "+------+-------+------+---------+----------+\n",
      "only showing top 20 rows\n",
      "\n"
     ]
    }
   ],
   "source": [
    "test_pred.show()"
   ]
  },
  {
   "cell_type": "code",
   "execution_count": 85,
   "id": "d96a5b60-c108-4b5a-b77e-438814574426",
   "metadata": {},
   "outputs": [],
   "source": [
    "import pyspark.sql.functions as psf\n",
    "\n",
    "def compute_RMSE(df,expected_col, actual_col):\n",
    "\n",
    "  rmse = df.withColumn(\"squarederror\",\n",
    "                           psf.pow(psf.col(actual_col) - psf.col(expected_col),\n",
    "                                   psf.lit(2)\n",
    "                           ))\\\n",
    "  .agg(psf.avg(psf.col(\"squarederror\")).alias(\"mse\"))\\\n",
    "  .withColumn(\"rmse\", psf.sqrt(psf.col(\"mse\")))\n",
    "\n",
    "  return(rmse)\n",
    "\n",
    "\n",
    "res = compute_RMSE(test_pred,\"rating\", \"prediction\")"
   ]
  },
  {
   "cell_type": "code",
   "execution_count": 86,
   "id": "3a25ae32-2e86-4e14-9c84-ba3298bf6000",
   "metadata": {},
   "outputs": [
    {
     "name": "stdout",
     "output_type": "stream",
     "text": [
      "+---+----+\n",
      "|mse|rmse|\n",
      "+---+----+\n",
      "|NaN| NaN|\n",
      "+---+----+\n",
      "\n"
     ]
    }
   ],
   "source": [
    "res.show()"
   ]
  },
  {
   "cell_type": "code",
   "execution_count": null,
   "id": "2754fbb8-37c6-4079-84be-3da1dbd370fc",
   "metadata": {},
   "outputs": [],
   "source": []
  }
 ],
 "metadata": {
  "kernelspec": {
   "display_name": "Python 3 (ipykernel)",
   "language": "python",
   "name": "python3"
  },
  "language_info": {
   "codemirror_mode": {
    "name": "ipython",
    "version": 3
   },
   "file_extension": ".py",
   "mimetype": "text/x-python",
   "name": "python",
   "nbconvert_exporter": "python",
   "pygments_lexer": "ipython3",
   "version": "3.8.13"
  }
 },
 "nbformat": 4,
 "nbformat_minor": 5
}
